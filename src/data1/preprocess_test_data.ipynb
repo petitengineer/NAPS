{
 "cells": [
  {
   "cell_type": "code",
   "execution_count": null,
   "metadata": {},
   "outputs": [],
   "source": [
    "import pandas as pd\n",
    "import pyarrow.parquet as pq\n",
    "import pyarrow.feather as feather\n",
    "from sklearn.preprocessing import LabelEncoder"
   ]
  },
  {
   "cell_type": "code",
   "execution_count": null,
   "metadata": {},
   "outputs": [],
   "source": [
    "file_path_test = 'D:\\\\Masters_Courses\\\\ELG5255_Applied_Machine_Learning\\\\Project_NAPS\\\\NAPS\\\\data\\\\test_series.parquet'\n",
    "#Pre-Processing Test Data:\n",
    "test_df = pd.read_parquet(file_path_test)\n",
    "label_encoder = LabelEncoder()\n",
    "test_df['series_id'] = label_encoder.fit_transform(test_df['series_id'])"
   ]
  },
  {
   "cell_type": "code",
   "execution_count": null,
   "metadata": {},
   "outputs": [],
   "source": [
    "# Convert timestamp to datetime object\n",
    "test_df['timestamp'] = pd.to_datetime(test_df['timestamp'], utc=True)\n",
    "\n",
    "# Extract relevant features\n",
    "test_df['year'] = test_df['timestamp'].dt.year\n",
    "test_df['month'] = test_df['timestamp'].dt.month\n",
    "test_df['day'] = test_df['timestamp'].dt.day\n",
    "test_df['hour'] = test_df['timestamp'].dt.hour\n",
    "test_df['minute'] = test_df['timestamp'].dt.minute\n",
    "test_df['second'] = test_df['timestamp'].dt.second\n",
    "\n",
    "#save file with timestamps\n",
    "test_df.to_parquet('processed_test_data_timestamps.parquet', index=False)"
   ]
  },
  {
   "cell_type": "code",
   "execution_count": null,
   "metadata": {},
   "outputs": [],
   "source": [
    "#save file with no timestamps (must run cell 1 again beforehand)\n",
    "test_df.to_parquet('processed_test_data_NOtimestamps.parquet', index=False)"
   ]
  }
 ],
 "metadata": {
  "language_info": {
   "name": "python"
  }
 },
 "nbformat": 4,
 "nbformat_minor": 2
}
