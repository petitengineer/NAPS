{
 "cells": [
  {
   "cell_type": "code",
   "execution_count": 1,
   "metadata": {},
   "outputs": [],
   "source": [
    "import pandas as pd\n",
    "from sklearn.preprocessing import LabelEncoder"
   ]
  },
  {
   "cell_type": "code",
   "execution_count": null,
   "metadata": {},
   "outputs": [],
   "source": [
    "# grabbing training parquet file\n",
    "#file_path_training = 'D:\\\\Masters_Courses\\\\ELG5255_Applied_Machine_Learning\\\\Project_NAPS\\\\NAPS\\\\data\\\\train_series.parquet'\n",
    "#file_path_test = 'D:\\\\Masters_Courses\\\\ELG5255_Applied_Machine_Learning\\\\Project_NAPS\\\\NAPS\\\\data\\\\test_series.parquet'\n",
    "\n",
    "import os\n",
    " \n",
    "# This function goes up N = levels in the specified path. \n",
    "# Usefull because it allows valid paths for both our computers.\n",
    "# E.g. If you are in your_path = \"D:\\\\Masters_Courses\\\\ELG5255_Applied_Machine_Learning\\\\Project_NAPS\\\\NAPS\\\\src\\\\data1\\\\preprocess.ipynb\"\n",
    "# Then getParent(path, 2) = \"D:\\\\Masters_Courses\\\\ELG5255_Applied_Machine_Learning\\\\Project_NAPS\\\\NAPS\\\\\"\n",
    "def getParent(path, levels = 1):\n",
    "    if (levels <= 1):\n",
    "        return os.path.dirname(path)\n",
    "    else:\n",
    "        return getParent(os.path.dirname(path), levels-1)\n",
    "\n",
    "current_working_directory = os.getcwd() \n",
    "#joins path together. Assumes data is stored in %PROJECT_FOLDER%/data/\n",
    "file_path_training = os.path.join(getParent(current_working_directory, 2), 'data', 'train_series.parquet')\n",
    "file_path_test = os.path.join(getParent(current_working_directory, 2), 'data', 'test_series.parquet')\n",
    "\n",
    "\n",
    "# Reading the Parquet file into a pandas DataFrame\n",
    "training_df = pd.read_parquet(file_path_training)\n",
    "test_df = pd.read_parquet(file_path_test)\n",
    "# Displaying the contents of the DataFrame\n",
    "print(training_df)\n",
    "print(test_df)"
   ]
  },
  {
   "cell_type": "code",
   "execution_count": 4,
   "metadata": {},
   "outputs": [
    {
     "name": "stdout",
     "output_type": "stream",
     "text": [
      "series_id    0\n",
      "step         0\n",
      "timestamp    0\n",
      "anglez       0\n",
      "enmo         0\n",
      "dtype: int64\n",
      "series_id    0\n",
      "step         0\n",
      "timestamp    0\n",
      "anglez       0\n",
      "enmo         0\n",
      "dtype: int64\n"
     ]
    }
   ],
   "source": [
    "# Check for missing values\n",
    "print(training_df.isnull().sum())\n",
    "print(test_df.isnull().sum())\n",
    "# Handle missing values (fill with mean)\n",
    "training_df.fillna(training_df.mean(), inplace=True)\n",
    "test_df.fillna(test_df.mean(), inplace=True)\n",
    "# Displaying the contents of the DataFrame\n",
    "print(training_df)\n",
    "print(test_df)"
   ]
  },
  {
   "cell_type": "code",
   "execution_count": null,
   "metadata": {},
   "outputs": [],
   "source": [
    "#Encoding Categorical Variables\n",
    "\n",
    "label_encoder = LabelEncoder()\n",
    "training_df['series_id'] = label_encoder.fit_transform(training_df['series_id'])\n",
    "test_df['series_id'] = label_encoder.fit_transform(test_df['series_id'])"
   ]
  },
  {
   "cell_type": "code",
   "execution_count": 18,
   "metadata": {},
   "outputs": [
    {
     "name": "stdout",
     "output_type": "stream",
     "text": [
      "/home/Jonny/Documents/Shared Documents/University/M1S1/ELG5255 - Machine Learning/elg5255-project/Code/src/data1\n",
      "\n"
     ]
    }
   ],
   "source": [
    "# grabbing training parquet file\n",
    "file_path_training = 'D:\\\\Masters_Courses\\\\ELG5255_Applied_Machine_Learning\\\\Project_NAPS\\\\NAPS\\\\data\\\\train_series.parquet'\n",
    "file_path_test = 'D:\\\\Masters_Courses\\\\ELG5255_Applied_Machine_Learning\\\\Project_NAPS\\\\NAPS\\\\data\\\\test_series.parquet'\n",
    "\n",
    "\n",
    "import os\n",
    " \n",
    "# function to get parent\n",
    "def getParent(path, levels = 1):\n",
    "    if (levels <= 1):\n",
    "        return os.path.dirname(path)\n",
    "    else:\n",
    "        return getParent(os.path.dirname(path), levels-1)\n",
    " \n",
    "\n",
    "path =os.getcwd() \n",
    "#joins path together. Assumes data is stored in %PATH_TO_PROJECT_FOLDER%/data/\n",
    "file_path_training = os.path.join(getParent(path, 2),'data','train_series.parquet')\n",
    "file_path_test = os.path.join(getParent(path, 2),'data','test_series.parquet')\n",
    "#windows\n",
    "#file_path_training = 'D:\\\\Masters_Courses\\\\ELG5255_Applied_Machine_Learning\\\\Project_NAPS\\\\NAPS\\\\data\\\\train_series.parquet'\n",
    "#file_path_test = 'D:\\\\Masters_Courses\\\\ELG5255_Applied_Machine_Learning\\\\Project_NAPS\\\\NAPS\\\\data\\\\test_series.parquet'\n",
    "#print(getParent(file_path_training, 2)+\"/data/train_series.parquet\")\n",
    "#print(getParent(file_path_test, 2)+\"/data/test_series.parquet\")\n",
    "#file_path = sys.path[0].append(\"../\") # go to parent dir\n",
    "#print (file_path)"
   ]
  },
  {
   "cell_type": "code",
   "execution_count": null,
   "metadata": {},
   "outputs": [],
   "source": []
  },
  {
   "cell_type": "code",
   "execution_count": null,
   "metadata": {},
   "outputs": [],
   "source": []
  }
 ],
 "metadata": {
  "kernelspec": {
   "display_name": "Python 3 (ipykernel)",
   "language": "python",
   "name": "python3"
  },
  "language_info": {
   "codemirror_mode": {
    "name": "ipython",
    "version": 3
   },
   "file_extension": ".py",
   "mimetype": "text/x-python",
   "name": "python",
   "nbconvert_exporter": "python",
   "pygments_lexer": "ipython3",
   "version": "3.11.5"
  }
 },
 "nbformat": 4,
 "nbformat_minor": 2
}
