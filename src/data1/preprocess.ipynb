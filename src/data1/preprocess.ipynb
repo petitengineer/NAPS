{
 "cells": [
  {
   "cell_type": "code",
   "execution_count": 1,
   "metadata": {},
   "outputs": [],
   "source": [
    "import pandas as pd\n",
    "from sklearn.preprocessing import LabelEncoder"
   ]
  },
  {
   "cell_type": "code",
   "execution_count": 3,
   "metadata": {},
   "outputs": [
    {
     "name": "stdout",
     "output_type": "stream",
     "text": [
      "              series_id    step                 timestamp     anglez    enmo\n",
      "0          038441c925bb       0  2018-08-14T15:30:00-0400   2.636700  0.0217\n",
      "1          038441c925bb       1  2018-08-14T15:30:05-0400   2.636800  0.0215\n",
      "2          038441c925bb       2  2018-08-14T15:30:10-0400   2.637000  0.0216\n",
      "3          038441c925bb       3  2018-08-14T15:30:15-0400   2.636800  0.0213\n",
      "4          038441c925bb       4  2018-08-14T15:30:20-0400   2.636800  0.0215\n",
      "...                 ...     ...                       ...        ...     ...\n",
      "127946335  fe90110788d2  592375  2017-09-08T00:14:35-0400 -27.277500  0.0204\n",
      "127946336  fe90110788d2  592376  2017-09-08T00:14:40-0400 -27.032499  0.0233\n",
      "127946337  fe90110788d2  592377  2017-09-08T00:14:45-0400 -26.841200  0.0202\n",
      "127946338  fe90110788d2  592378  2017-09-08T00:14:50-0400 -26.723900  0.0199\n",
      "127946339  fe90110788d2  592379  2017-09-08T00:14:55-0400 -31.521601  0.0205\n",
      "\n",
      "[127946340 rows x 5 columns]\n",
      "        series_id  step                 timestamp     anglez    enmo\n",
      "0    038441c925bb     0  2018-08-14T15:30:00-0400   2.636700  0.0217\n",
      "1    038441c925bb     1  2018-08-14T15:30:05-0400   2.636800  0.0215\n",
      "2    038441c925bb     2  2018-08-14T15:30:10-0400   2.637000  0.0216\n",
      "3    038441c925bb     3  2018-08-14T15:30:15-0400   2.636800  0.0213\n",
      "4    038441c925bb     4  2018-08-14T15:30:20-0400   2.636800  0.0215\n",
      "..            ...   ...                       ...        ...     ...\n",
      "445  0402a003dae9   145  2018-12-18T12:57:05-0500 -59.696899  0.0601\n",
      "446  0402a003dae9   146  2018-12-18T12:57:10-0500 -35.656601  0.0427\n",
      "447  0402a003dae9   147  2018-12-18T12:57:15-0500 -21.582399  0.0309\n",
      "448  0402a003dae9   148  2018-12-18T12:57:20-0500 -42.616001  0.0328\n",
      "449  0402a003dae9   149  2018-12-18T12:57:25-0500   7.029900  0.0081\n",
      "\n",
      "[450 rows x 5 columns]\n"
     ]
    }
   ],
   "source": [
    "# grabbing training parquet file\n",
    "#file_path_training = 'D:\\\\Masters_Courses\\\\ELG5255_Applied_Machine_Learning\\\\Project_NAPS\\\\NAPS\\\\data\\\\train_series.parquet'\n",
    "#file_path_test = 'D:\\\\Masters_Courses\\\\ELG5255_Applied_Machine_Learning\\\\Project_NAPS\\\\NAPS\\\\data\\\\test_series.parquet'\n",
    "\n",
    "import os\n",
    " \n",
    "# This function goes up N = levels in the specified path. \n",
    "# Useful because it allows paths to be valid for both our computers.\n",
    "# E.g. If you are in your_path = \"D:\\\\Masters_Courses\\\\ELG5255_Applied_Machine_Learning\\\\Project_NAPS\\\\NAPS\\\\src\\\\data1\\\\preprocess.ipynb\"\n",
    "# Then getParent(path, 2) = \"D:\\\\Masters_Courses\\\\ELG5255_Applied_Machine_Learning\\\\Project_NAPS\\\\NAPS\\\\\"\n",
    "# so getParent goes up N folders or directories.\n",
    "def getParent(path, levels = 1):\n",
    "    if (levels <= 1):\n",
    "        return os.path.dirname(path)\n",
    "    else:\n",
    "        return getParent(os.path.dirname(path), levels-1)\n",
    "\n",
    "current_working_directory = os.getcwd() \n",
    "#joins path together. Assumes data is stored in %PROJECT_FOLDER%/data/\n",
    "file_path_training = os.path.join(getParent(current_working_directory, 2), 'data', 'train_series.parquet')\n",
    "file_path_test = os.path.join(getParent(current_working_directory, 2), 'data', 'test_series.parquet')\n",
    "\n",
    "\n",
    "# Reading the Parquet file into a pandas DataFrame\n",
    "training_df = pd.read_parquet(file_path_training)\n",
    "test_df = pd.read_parquet(file_path_test)\n",
    "# Displaying the contents of the DataFrame\n",
    "print(training_df)\n",
    "print(test_df)"
   ]
  },
  {
   "cell_type": "code",
   "execution_count": 4,
   "metadata": {
    "scrolled": true
   },
   "outputs": [
    {
     "name": "stdout",
     "output_type": "stream",
     "text": [
      "series_id    0\n",
      "step         0\n",
      "timestamp    0\n",
      "anglez       0\n",
      "enmo         0\n",
      "dtype: int64\n",
      "series_id    0\n",
      "step         0\n",
      "timestamp    0\n",
      "anglez       0\n",
      "enmo         0\n",
      "dtype: int64\n"
     ]
    }
   ],
   "source": [
    "# Check for missing values\n",
    "print(training_df.isnull().sum())\n",
    "print(test_df.isnull().sum())\n",
    "# Handle missing values (fill with mean)\n",
    "training_df.fillna(training_df.mean(), inplace=True)\n",
    "test_df.fillna(test_df.mean(), inplace=True)\n",
    "# Displaying the contents of the DataFrame\n",
    "print(training_df)\n",
    "print(test_df)"
   ]
  },
  {
   "cell_type": "code",
   "execution_count": null,
   "metadata": {},
   "outputs": [],
   "source": [
    "#Encoding Categorical Variables\n",
    "\n",
    "label_encoder = LabelEncoder()\n",
    "training_df['series_id'] = label_encoder.fit_transform(training_df['series_id'])\n",
    "test_df['series_id'] = label_encoder.fit_transform(test_df['series_id'])"
   ]
  },
  {
   "cell_type": "code",
   "execution_count": null,
   "metadata": {},
   "outputs": [],
   "source": [
    "# Export the data with its new features to the data file under a new name\n",
    "\n",
    "# In this cell, I think we should export the data once it's been processed. \n",
    "# That way we can import it into various notebooks and run different algorithms on the data. "
   ]
  }
 ],
 "metadata": {
  "kernelspec": {
   "display_name": "Python 3 (ipykernel)",
   "language": "python",
   "name": "python3"
  },
  "language_info": {
   "codemirror_mode": {
    "name": "ipython",
    "version": 3
   },
   "file_extension": ".py",
   "mimetype": "text/x-python",
   "name": "python",
   "nbconvert_exporter": "python",
   "pygments_lexer": "ipython3",
   "version": "3.11.5"
  }
 },
 "nbformat": 4,
 "nbformat_minor": 2
}
