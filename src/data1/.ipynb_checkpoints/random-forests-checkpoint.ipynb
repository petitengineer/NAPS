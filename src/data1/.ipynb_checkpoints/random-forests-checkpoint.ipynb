{
 "cells": [
  {
   "cell_type": "code",
   "execution_count": 4,
   "id": "aa4e3040",
   "metadata": {},
   "outputs": [],
   "source": [
    "import pandas as pd\n",
    "import os\n",
    "from sklearn.model_selection import train_test_split\n",
    "from sklearn.ensemble import RandomForestClassifier\n",
    "from sklearn.metrics import accuracy_score, classification_report, confusion_matrix\n"
   ]
  },
  {
   "cell_type": "code",
   "execution_count": 8,
   "id": "f90ad9f8",
   "metadata": {},
   "outputs": [
    {
     "name": "stdout",
     "output_type": "stream",
     "text": [
      "              series_id    step                 timestamp     anglez    enmo\n",
      "0          038441c925bb       0  2018-08-14T15:30:00-0400   2.636700  0.0217\n",
      "1          038441c925bb       1  2018-08-14T15:30:05-0400   2.636800  0.0215\n",
      "2          038441c925bb       2  2018-08-14T15:30:10-0400   2.637000  0.0216\n",
      "3          038441c925bb       3  2018-08-14T15:30:15-0400   2.636800  0.0213\n",
      "4          038441c925bb       4  2018-08-14T15:30:20-0400   2.636800  0.0215\n",
      "...                 ...     ...                       ...        ...     ...\n",
      "127946335  fe90110788d2  592375  2017-09-08T00:14:35-0400 -27.277500  0.0204\n",
      "127946336  fe90110788d2  592376  2017-09-08T00:14:40-0400 -27.032499  0.0233\n",
      "127946337  fe90110788d2  592377  2017-09-08T00:14:45-0400 -26.841200  0.0202\n",
      "127946338  fe90110788d2  592378  2017-09-08T00:14:50-0400 -26.723900  0.0199\n",
      "127946339  fe90110788d2  592379  2017-09-08T00:14:55-0400 -31.521601  0.0205\n",
      "\n",
      "[127946340 rows x 5 columns]\n"
     ]
    }
   ],
   "source": [
    "# This function goes up N = levels in the specified path. \n",
    "# Useful because it allows paths to be valid for both our computers.\n",
    "# E.g. If you are in your_path = \"D:\\\\Masters_Courses\\\\ELG5255_Applied_Machine_Learning\\\\Project_NAPS\\\\NAPS\\\\src\\\\data1\\\\preprocess.ipynb\"\n",
    "# Then getParent(path, 2) = \"D:\\\\Masters_Courses\\\\ELG5255_Applied_Machine_Learning\\\\Project_NAPS\\\\NAPS\\\\\"\n",
    "# so getParent goes up N folders or directories.\n",
    "#test\n",
    "def getParent(path, levels = 1):\n",
    "    if (levels <= 1):\n",
    "        return os.path.dirname(path)\n",
    "    else:\n",
    "        return getParent(os.path.dirname(path), levels-1)\n",
    "\n",
    "current_working_directory = os.getcwd() \n",
    "project_directory = getParent(current_working_directory, 2)\n",
    "#joins path together. Assumes data is stored in %PROJECT_FOLDER%/data/\n",
    "file_path_training = os.path.join(project_directory, 'data', 'train_series.parquet')\n",
    "file_path_target   = os.path.join(project_directory, 'data', 'train_events.csv')\n",
    "\n",
    "# Reading the Parquet file into a pandas DataFrame\n",
    "training_df = pd.read_parquet(file_path_training)\n",
    "target_df = pd.read_csv(file_path_target)\n",
    "\n",
    "#Add target column to training data, k\n",
    "df = pd.merge(training_df, target_df, on=['series_id', 'timestamp'], how='left')\n",
    "\n",
    "#Printing the training data\n",
    "print(df)"
   ]
  },
  {
   "cell_type": "code",
   "execution_count": 7,
   "id": "4a06d47d",
   "metadata": {},
   "outputs": [
    {
     "name": "stdout",
     "output_type": "stream",
     "text": [
      "              series_id    step                 timestamp     anglez    enmo\n",
      "127353960  fe90110788d2       0  2017-08-04T17:30:00-0400 -27.707001  0.0298\n",
      "127353961  fe90110788d2       1  2017-08-04T17:30:05-0400 -33.867500  0.0488\n",
      "127353962  fe90110788d2       2  2017-08-04T17:30:10-0400 -15.475000  0.1077\n",
      "127353963  fe90110788d2       3  2017-08-04T17:30:15-0400 -73.656197  0.0530\n",
      "127353964  fe90110788d2       4  2017-08-04T17:30:20-0400 -53.152901  0.0601\n",
      "...                 ...     ...                       ...        ...     ...\n",
      "127946335  fe90110788d2  592375  2017-09-08T00:14:35-0400 -27.277500  0.0204\n",
      "127946336  fe90110788d2  592376  2017-09-08T00:14:40-0400 -27.032499  0.0233\n",
      "127946337  fe90110788d2  592377  2017-09-08T00:14:45-0400 -26.841200  0.0202\n",
      "127946338  fe90110788d2  592378  2017-09-08T00:14:50-0400 -26.723900  0.0199\n",
      "127946339  fe90110788d2  592379  2017-09-08T00:14:55-0400 -31.521601  0.0205\n",
      "\n",
      "[592380 rows x 5 columns]\n"
     ]
    }
   ],
   "source": [
    "series_ids = df['series_id'].unique()\n",
    "\n",
    "#In this cell seperate each series into\n",
    "for series_id in series_ids:\n",
    "    # Extract data for the current series\n",
    "    series_data = df[df['series_id'] == series_id]\n",
    "    \n",
    "print(series_data)\n",
    "print(series_ids)"
   ]
  },
  {
   "cell_type": "code",
   "execution_count": null,
   "id": "0267bc06",
   "metadata": {},
   "outputs": [],
   "source": [
    "# Assuming df is your DataFrame\n",
    "X = df.drop('event', axis=1)  # Features\n",
    "y = df['event']  # Target variable\n"
   ]
  }
 ],
 "metadata": {
  "kernelspec": {
   "display_name": "Python 3 (ipykernel)",
   "language": "python",
   "name": "python3"
  },
  "language_info": {
   "codemirror_mode": {
    "name": "ipython",
    "version": 3
   },
   "file_extension": ".py",
   "mimetype": "text/x-python",
   "name": "python",
   "nbconvert_exporter": "python",
   "pygments_lexer": "ipython3",
   "version": "3.11.5"
  }
 },
 "nbformat": 4,
 "nbformat_minor": 5
}
