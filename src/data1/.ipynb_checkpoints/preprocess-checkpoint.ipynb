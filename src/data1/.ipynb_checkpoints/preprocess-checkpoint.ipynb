{
 "cells": [
  {
   "cell_type": "code",
   "execution_count": 2,
   "metadata": {},
   "outputs": [],
   "source": [
    "import pandas as pd\n",
    "from sklearn.preprocessing import LabelEncoder"
   ]
  },
  {
   "cell_type": "code",
   "execution_count": 1,
   "metadata": {},
   "outputs": [
    {
     "ename": "NameError",
     "evalue": "name 'pd' is not defined",
     "output_type": "error",
     "traceback": [
      "\u001b[0;31m---------------------------------------------------------------------------\u001b[0m",
      "\u001b[0;31mNameError\u001b[0m                                 Traceback (most recent call last)",
      "Cell \u001b[0;32mIn[1], line 25\u001b[0m\n\u001b[1;32m     21\u001b[0m file_path_test \u001b[38;5;241m=\u001b[39m os\u001b[38;5;241m.\u001b[39mpath\u001b[38;5;241m.\u001b[39mjoin(getParent(current_working_directory, \u001b[38;5;241m2\u001b[39m), \u001b[38;5;124m'\u001b[39m\u001b[38;5;124mdata\u001b[39m\u001b[38;5;124m'\u001b[39m, \u001b[38;5;124m'\u001b[39m\u001b[38;5;124mtest_series.parquet\u001b[39m\u001b[38;5;124m'\u001b[39m)\n\u001b[1;32m     24\u001b[0m \u001b[38;5;66;03m# Reading the Parquet file into a pandas DataFrame\u001b[39;00m\n\u001b[0;32m---> 25\u001b[0m training_df \u001b[38;5;241m=\u001b[39m pd\u001b[38;5;241m.\u001b[39mread_parquet(file_path_training)\n\u001b[1;32m     26\u001b[0m test_df \u001b[38;5;241m=\u001b[39m pd\u001b[38;5;241m.\u001b[39mread_parquet(file_path_test)\n\u001b[1;32m     27\u001b[0m \u001b[38;5;66;03m# Displaying the contents of the DataFrame\u001b[39;00m\n",
      "\u001b[0;31mNameError\u001b[0m: name 'pd' is not defined"
     ]
    }
   ],
   "source": [
    "# grabbing training parquet file\n",
    "#file_path_training = 'D:\\\\Masters_Courses\\\\ELG5255_Applied_Machine_Learning\\\\Project_NAPS\\\\NAPS\\\\data\\\\train_series.parquet'\n",
    "#file_path_test = 'D:\\\\Masters_Courses\\\\ELG5255_Applied_Machine_Learning\\\\Project_NAPS\\\\NAPS\\\\data\\\\test_series.parquet'\n",
    "\n",
    "import os\n",
    "\n",
    "#test2\n",
    "# This function goes up N = levels in the specified path. \n",
    "# Useful because it allows paths to be valid for both our computers.\n",
    "# E.g. If you are in your_path = \"D:\\\\Masters_Courses\\\\ELG5255_Applied_Machine_Learning\\\\Project_NAPS\\\\NAPS\\\\src\\\\data1\\\\preprocess.ipynb\"\n",
    "# Then getParent(path, 2) = \"D:\\\\Masters_Courses\\\\ELG5255_Applied_Machine_Learning\\\\Project_NAPS\\\\NAPS\\\\\"\n",
    "# so getParent goes up N folders or directories.\n",
    "def getParent(path, levels = 1):\n",
    "    if (levels <= 1):\n",
    "        return os.path.dirname(path)\n",
    "    else:\n",
    "        return getParent(os.path.dirname(path), levels-1)\n",
    "\n",
    "current_working_directory = os.getcwd() \n",
    "#joins path together. Assumes data is stored in %PROJECT_FOLDER%/data/\n",
    "file_path_training = os.path.join(getParent(current_working_directory, 2), 'data', 'train_series.parquet')\n",
    "file_path_test = os.path.join(getParent(current_working_directory, 2), 'data', 'test_series.parquet')\n",
    "\n",
    "\n",
    "# Reading the Parquet file into a pandas DataFrame\n",
    "training_df = pd.read_parquet(file_path_training)\n",
    "test_df = pd.read_parquet(file_path_test)\n",
    "# Displaying the contents of the DataFrame\n",
    "print(training_df)\n",
    "print(test_df)"
   ]
  },
  {
   "cell_type": "code",
   "execution_count": 4,
   "metadata": {
    "scrolled": true
   },
   "outputs": [
    {
     "name": "stdout",
     "output_type": "stream",
     "text": [
      "series_id    0\n",
      "step         0\n",
      "timestamp    0\n",
      "anglez       0\n",
      "enmo         0\n",
      "dtype: int64\n",
      "series_id    0\n",
      "step         0\n",
      "timestamp    0\n",
      "anglez       0\n",
      "enmo         0\n",
      "dtype: int64\n"
     ]
    }
   ],
   "source": [
    "# Check for missing values\n",
    "print(training_df.isnull().sum())\n",
    "print(test_df.isnull().sum())\n",
    "# Handle missing values (fill with mean)\n",
    "training_df.fillna(training_df.mean(), inplace=True)\n",
    "test_df.fillna(test_df.mean(), inplace=True)\n",
    "# Displaying the contents of the DataFrame\n",
    "print(training_df)\n",
    "print(test_df)"
   ]
  },
  {
   "cell_type": "code",
   "execution_count": null,
   "metadata": {},
   "outputs": [],
   "source": [
    "#Encoding Categorical Variables\n",
    "\n",
    "label_encoder = LabelEncoder()\n",
    "training_df['series_id'] = label_encoder.fit_transform(training_df['series_id'])\n",
    "test_df['series_id'] = label_encoder.fit_transform(test_df['series_id'])"
   ]
  },
  {
   "cell_type": "code",
   "execution_count": null,
   "metadata": {},
   "outputs": [],
   "source": [
    "# Export the data with its new features to the data file under a new name\n",
    "\n",
    "# In this cell, I think we should export the data once it's been processed. \n",
    "# That way we can import it into various notebooks and run different algorithms on the data. "
   ]
  }
 ],
 "metadata": {
  "kernelspec": {
   "display_name": "Python 3 (ipykernel)",
   "language": "python",
   "name": "python3"
  },
  "language_info": {
   "codemirror_mode": {
    "name": "ipython",
    "version": 3
   },
   "file_extension": ".py",
   "mimetype": "text/x-python",
   "name": "python",
   "nbconvert_exporter": "python",
   "pygments_lexer": "ipython3",
   "version": "3.11.5"
  }
 },
 "nbformat": 4,
 "nbformat_minor": 2
}
