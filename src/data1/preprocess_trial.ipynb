{
 "cells": [
  {
   "cell_type": "code",
   "execution_count": 1,
   "metadata": {},
   "outputs": [],
   "source": [
    "import pandas as pd\n",
    "import pyarrow.parquet as pq\n",
    "import pyarrow.feather as feather\n",
    "from sklearn.preprocessing import LabelEncoder"
   ]
  },
  {
   "cell_type": "code",
   "execution_count": 2,
   "metadata": {},
   "outputs": [],
   "source": [
    "#Define file paths\n",
    "file_path_training = 'D:\\\\Masters_Courses\\\\ELG5255_Applied_Machine_Learning\\\\Project_NAPS\\\\NAPS\\\\data\\\\train_series.parquet'\n",
    "file_path_events = 'D:\\\\Masters_Courses\\\\ELG5255_Applied_Machine_Learning\\\\Project_NAPS\\\\NAPS\\\\data\\\\train_events.csv'"
   ]
  },
  {
   "cell_type": "code",
   "execution_count": 3,
   "metadata": {},
   "outputs": [],
   "source": [
    "# Reading the Parquet file into a pandas DataFrame\n",
    "training_df = pd.read_parquet(file_path_training)\n",
    "train_events_df = pd.read_csv(file_path_events)"
   ]
  },
  {
   "cell_type": "code",
   "execution_count": 5,
   "metadata": {},
   "outputs": [],
   "source": [
    "#Encoding Categorical Variables\n",
    "\n",
    "label_encoder = LabelEncoder()\n",
    "#training_df['series_id'] = label_encoder.fit_transform(training_df['series_id'])\n",
    "train_events_df['series_id'] = label_encoder.fit_transform(train_events_df['series_id'])"
   ]
  },
  {
   "cell_type": "code",
   "execution_count": 8,
   "metadata": {},
   "outputs": [],
   "source": [
    "train_events_df = train_events_df.drop('timestamp', axis=1)\n",
    "train_events_df.dropna(subset=['step'], inplace=True) #dropping all nan values from training events"
   ]
  },
  {
   "cell_type": "code",
   "execution_count": 9,
   "metadata": {},
   "outputs": [
    {
     "name": "stderr",
     "output_type": "stream",
     "text": [
      "c:\\Users\\User\\anaconda3\\lib\\site-packages\\dask\\dataframe\\multi.py:469: UserWarning: Merging dataframes with merge column data type mismatches: \n",
      "+------------------+------------+-------------+\n",
      "| Merge columns    | left dtype | right dtype |\n",
      "+------------------+------------+-------------+\n",
      "| ('step', 'step') | uint32     | float64     |\n",
      "+------------------+------------+-------------+\n",
      "Cast dtypes explicitly to avoid unexpected results.\n",
      "  warnings.warn(\n"
     ]
    }
   ],
   "source": [
    "import dask.dataframe as dd\n",
    "\n",
    "# Convert pandas dataframes to Dask dataframes\n",
    "dask_training_df = dd.from_pandas(training_df, npartitions=10)\n",
    "dask_train_events_df = dd.from_pandas(train_events_df, npartitions=10)\n",
    "\n",
    "# Merge Dask dataframes\n",
    "merged_dask_df = dd.merge(dask_training_df, dask_train_events_df, on=['series_id', 'step'], how='left')\n",
    "\n",
    "# Compute the result to obtain a pandas dataframe\n",
    "merged_df = merged_dask_df.compute()\n"
   ]
  },
  {
   "cell_type": "code",
   "execution_count": 13,
   "metadata": {},
   "outputs": [],
   "source": [
    "# merging event information\n",
    "# Merge the dataframes on series_id and step\n",
    "training_merged_df = pd.merge(training_df, train_events_df, on=['series_id', 'step'], how='left')\n",
    "\n",
    "# Display the merged dataframe\n",
    "print(training_merged_df)\n"
   ]
  },
  {
   "cell_type": "code",
   "execution_count": null,
   "metadata": {},
   "outputs": [],
   "source": [
    "#save pre-processed data to parquet files:\n",
    "training_df.to_parquet('processed_training_data.parquet', index=False)\n",
    "test_df.to_parquet('processed_test_data.parquet', index=False)"
   ]
  }
 ],
 "metadata": {
  "kernelspec": {
   "display_name": "base",
   "language": "python",
   "name": "python3"
  },
  "language_info": {
   "codemirror_mode": {
    "name": "ipython",
    "version": 3
   },
   "file_extension": ".py",
   "mimetype": "text/x-python",
   "name": "python",
   "nbconvert_exporter": "python",
   "pygments_lexer": "ipython3",
   "version": "3.9.12"
  }
 },
 "nbformat": 4,
 "nbformat_minor": 2
}
